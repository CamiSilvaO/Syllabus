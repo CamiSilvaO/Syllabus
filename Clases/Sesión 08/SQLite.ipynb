{
 "cells": [
  {
   "cell_type": "markdown",
   "metadata": {},
   "source": [
    "Sistemas administradores de bases de datos: hay muchos (mysql, sqlserver, postreSQL). son en general programas pesados, con muchas funcionalidades, pensados en aplicaciones grandes.\n",
    "Para nuestro caso, no necesitamos tanto, por lo que utilizaremos SQLite, un administrador altamente compacto y funcional, compatible con SQL. SQLite es compatible con Windows, Linux y Mac, mientras que su instalación es trivial para cualquiera de estas tres plataformas.\n",
    "\n"
   ]
  },
  {
   "cell_type": "code",
   "execution_count": 1,
   "metadata": {
    "collapsed": true
   },
   "outputs": [],
   "source": [
    "import sqlite3\n",
    "\n",
    "conn = sqlite3.connect('example.db')\n",
    "c = conn.cursor()\n",
    "\n",
    "# Create table\n",
    "c.execute(\"CREATE TABLE stocks(date text, trans text, symbol text, qty real, price real)\")\n",
    "\n",
    "# Insert a row of data\n",
    "c.execute(\"INSERT INTO stocks VALUES ('2006-01-05','BUY','RHAT',100,35.14)\")\n",
    "c.execute(\"INSERT INTO stocks VALUES ('2006-01-06','SELL','THOSE',50,10.5)\")\n",
    "\n",
    "# Save (commit) the changes\n",
    "conn.commit()"
   ]
  },
  {
   "cell_type": "markdown",
   "metadata": {},
   "source": [
    "Podemos verificar la creación de la tabla utilizando el siguiente comando:"
   ]
  },
  {
   "cell_type": "code",
   "execution_count": 2,
   "metadata": {},
   "outputs": [
    {
     "name": "stdout",
     "output_type": "stream",
     "text": [
      "[(0, 'date', 'text', 0, None, 0), (1, 'trans', 'text', 0, None, 0), (2, 'symbol', 'text', 0, None, 0), (3, 'qty', 'real', 0, None, 0), (4, 'price', 'real', 0, None, 0)]\n"
     ]
    }
   ],
   "source": [
    "c.execute('PRAGMA table_info([stocks])')\n",
    "print(c.fetchall())\n",
    "\n",
    "# We can also close the connection if we are done with it.\n",
    "# Just be sure any changes have been committed or they will be lost.\n",
    "conn.close()"
   ]
  },
  {
   "cell_type": "markdown",
   "metadata": {},
   "source": [
    "Como se puede ver, el comando anterior nos entrega información relvante, como tipo de dato y posición, para cada una de las columnas de la tabla.\n",
    "\n",
    "Por otro lado, si queremos verificar que la inserción fue realizada correctamente, debemoos una consulta sobre la misma base de datos. Es importante notar que en este momento, no existe una conexión activa con la base de datos *ejemplo*, ya que esta fue cerrada con el comando **connection.close()**. De esta manera, antes de realizar una consulta, es necesario abrir nuevamente una conexión, la que a diferencia del caso anterior, no deberá crear un nuevo archivo *ejemplo.db*, ya que este fue creado anteriormente. Es importante notar que no es necesario cerrar siempre la conexión con la base de datos, sólo cuando no se espera interactuar con ella en el plazo inmediato."
   ]
  },
  {
   "cell_type": "code",
   "execution_count": 3,
   "metadata": {},
   "outputs": [
    {
     "name": "stdout",
     "output_type": "stream",
     "text": [
      "('2006-01-05', 'BUY', 'RHAT', 100.0, 35.14)\n"
     ]
    }
   ],
   "source": [
    "conn = sqlite3.connect('example.db')\n",
    "c = conn.cursor()\n",
    "c.execute('SELECT * FROM stocks')\n",
    "#obtenemos sólo una fila, si queremos todas, debemos usar fetchall\n",
    "print(c.fetchone())\n",
    "conn.close()"
   ]
  },
  {
   "cell_type": "markdown",
   "metadata": {},
   "source": [
    "Otra manera de revisar los contenidos de la base de datos, es utilizando una herramienta especializada para esto. Dentro de la gran variedad existente, una opción simple y liviana es SQLiteStudio, que también es multiplataforma (Windows, Linux, Mac). \n",
    "\n",
    "Como se aprecia en la siguiente imagen, utilizando SQLiteStudio, es posible explorar visualmente el contenido de las bases de datos de SQLite."
   ]
  },
  {
   "cell_type": "markdown",
   "metadata": {},
   "source": [
    "Un error muy común en la gran mayoría de los programas que interactuan con bases de datos, es la utilización directa de *strings* para introducir información en las consultas. Esto puede generar grandes problemas de seguridad, debido a un ataque conocido como SQL Injection, que consiste en introducir, como dato para una consulta, consultas completas de SQL que pueden causar grandes pérdidas en la base de datos. Veamos el siguiente caso como ejemplo, donde eliminaremos la tabla *stocks* utilizando esta técnica:"
   ]
  },
  {
   "cell_type": "code",
   "execution_count": 4,
   "metadata": {},
   "outputs": [
    {
     "name": "stdout",
     "output_type": "stream",
     "text": [
      "[]\n"
     ]
    }
   ],
   "source": [
    "conn = sqlite3.connect('example.db')\n",
    "c = conn.cursor()\n",
    "symbol = \"'RHAT'; DROP TABLE stocks;\"\n",
    "c.executescript(\"SELECT * FROM stocks WHERE symbol = %s\" % symbol)\n",
    "\n",
    "#verificamos la existencia de la tabla\n",
    "c.execute('PRAGMA table_info([stocks])')\n",
    "print(c.fetchall())"
   ]
  },
  {
   "cell_type": "markdown",
   "metadata": {},
   "source": [
    "Para evitar esto, es fundamental utilizar parameter substitution. Put ? as a placeholder wherever you want to use a value, and then provide a tuple of values as the second argument to the cursor’s execute() method"
   ]
  },
  {
   "cell_type": "code",
   "execution_count": 5,
   "metadata": {},
   "outputs": [
    {
     "name": "stdout",
     "output_type": "stream",
     "text": [
      "('2006-01-05', 'BUY', 'RHAT', 100.0, 35.14)\n"
     ]
    },
    {
     "data": {
      "text/plain": [
       "<sqlite3.Cursor at 0x2ab459ee490>"
      ]
     },
     "execution_count": 5,
     "metadata": {},
     "output_type": "execute_result"
    }
   ],
   "source": [
    "c.execute(\"CREATE TABLE stocks(date text, trans text, symbol text, qty real, price real)\")\n",
    "c.execute(\"INSERT INTO stocks VALUES ('2006-01-05','BUY','RHAT',100,35.14)\")\n",
    "\n",
    "t = ('RHAT',)\n",
    "c.execute('SELECT * FROM stocks WHERE symbol=?', t)"
   ]
  },
  {
   "cell_type": "markdown",
   "metadata": {},
   "source": [
    "Muchas veces, deberemos insertar más de un valor simultaneamente en la base de datos. Con el fin de evitar el llamado repetido a la función execute, SLite provee la función executemany que permite ejecutar múltiples consultas de manera simultánea:"
   ]
  },
  {
   "cell_type": "code",
   "execution_count": null,
   "metadata": {
    "collapsed": true
   },
   "outputs": [],
   "source": [
    "# Larger example that inserts many records at a time\n",
    "purchases = [('2006-03-28', 'BUY', 'IBM', 1000, 45.00),\n",
    "             ('2006-04-05', 'BUY', 'MSFT', 1000, 72.00),\n",
    "             ('2006-04-06', 'SELL', 'IBM', 500, 53.00),\n",
    "            ]\n",
    "c.executemany('INSERT INTO stocks VALUES (?,?,?,?,?)', purchases)"
   ]
  },
  {
   "cell_type": "markdown",
   "metadata": {},
   "source": [
    "Una manera más limpia de verificar los resultados obtenidos por una consulta select, es utilizar el cursor resultante de una consulta como un iterador:"
   ]
  },
  {
   "cell_type": "code",
   "execution_count": null,
   "metadata": {
    "collapsed": true
   },
   "outputs": [],
   "source": [
    "for row in c.execute('SELECT * FROM stocks ORDER BY price'):\n",
    "        print(row)"
   ]
  }
 ],
 "metadata": {
  "kernelspec": {
   "display_name": "Python 3",
   "language": "python",
   "name": "python3"
  },
  "language_info": {
   "codemirror_mode": {
    "name": "ipython",
    "version": 3
   },
   "file_extension": ".py",
   "mimetype": "text/x-python",
   "name": "python",
   "nbconvert_exporter": "python",
   "pygments_lexer": "ipython3",
   "version": "3.6.1"
  }
 },
 "nbformat": 4,
 "nbformat_minor": 2
}
