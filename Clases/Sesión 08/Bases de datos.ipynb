{
 "cells": [
  {
   "cell_type": "markdown",
   "metadata": {},
   "source": [
    "# Bases de datos\n",
    "\n",
    "The amount of information available to us is literally exploding, and the value of data as an organizational asset is widely recognized. To get the most out of their large and complex datasets, users require tools that simplify the tasks of managing the data and extracting useful information in a timely fashion. Otherwise, data can become a liability, with the cost of acquiring it and managing\n",
    "it far exceeding the value derived from it.\n",
    "\n",
    "A database is a collection of data, typically describing the activities of one or more related organizations. For example, a university database might contain\n",
    "information about the following:\n",
    "\n",
    "• Entities such as students, faculty, courses, and classrooms.\n",
    "• Relationships between entities, such as students' enrollment in courses, faculty teaching courses, and the use of rooms for courses. \n",
    "\n",
    "A database management system, or DBMS, is software designed to assist in maintaining and utilizing large collections of data. The need for such systems, as well as their use, is growing rapidly. The alternative to using a DBMS is to store the data in files and write application-specific code to manage it. Es es sin duda poco práctico, y debe evitarse.\n",
    "\n",
    "The user of a DBMS is ultimately concerned with some real-world enterprise,\n",
    "and the data to be stored describes various aspects of this enterprise. For\n",
    "example, there are students, faculty, and courses in a university, and the data\n",
    "in a university database describes these entities and their relationships.\n",
    "A data model is a collection of high-level data description constructs that hide\n",
    "many low-level storage details. A DBMS allows a user to define the data to be\n",
    "stored in terms of a data model. Most database management systems today\n",
    "are based on the relational data model, which we focus on in this book.\n",
    "\n",
    "Cómo funciona un DBMS\n",
    "\n",
    "\n",
    "## Modelo Relacional"
   ]
  }
 ],
 "metadata": {
  "kernelspec": {
   "display_name": "Python 3",
   "language": "python",
   "name": "python3"
  },
  "language_info": {
   "codemirror_mode": {
    "name": "ipython",
    "version": 3
   },
   "file_extension": ".py",
   "mimetype": "text/x-python",
   "name": "python",
   "nbconvert_exporter": "python",
   "pygments_lexer": "ipython3",
   "version": "3.6.1"
  }
 },
 "nbformat": 4,
 "nbformat_minor": 2
}
