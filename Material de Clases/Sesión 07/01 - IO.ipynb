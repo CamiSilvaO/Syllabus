{
 "cells": [
  {
   "cell_type": "markdown",
   "metadata": {},
   "source": [
    "<p>\n",
    "<font size='5' face='Georgia, Arial'>IIC2115 - Programación como herramienta para la ingeniería</font><br>\n",
    "<font size='1'>Basado en material de Karim Pichara y Christian Pieringer. Todos los derechos reservados.</font>\n",
    "</p>"
   ]
  },
  {
   "cell_type": "markdown",
   "metadata": {},
   "source": [
    "# Input/Output (I/O)\n",
    "En este capítulo estudiaremos a fondo el manejo de strings, bytes, arreglos de bytes, archivos, context managers y serialización."
   ]
  },
  {
   "cell_type": "markdown",
   "metadata": {},
   "source": [
    "## Strings\n",
    "Hasta ahora hemos trabajado muchas veces con strings, como sabemos, corresponden a una secuencia inmutable de caracteres. En Python 3, todos los strings se representan en Unicode, codificación que permite representar virtualmente cualquier caracter en cualquier lenguaje. Luego veremos más detalles sobre Unicode. Entonces pensemos que en Python un string es una secuencia inmutable de caracteres Unicode. Aquí algunas formas distintas de crear un string en Python:"
   ]
  },
  {
   "cell_type": "code",
   "execution_count": null,
   "metadata": {},
   "outputs": [],
   "source": [
    "a = \"programando\"\n",
    "b = 'mucho'\n",
    "c = '''un string\n",
    "con múltiples\n",
    "lineas'''\n",
    "\n",
    "d = \"\"\"Multiples con\n",
    "     doble comillas\"\"\"\n",
    "e = (\"Tres\" \"Strings\" \" Juntos\")\n",
    "f = \"un string \" + \"concatenado\"\n",
    "\n",
    "print(a)\n",
    "print(b)\n",
    "print(c)\n",
    "print(d)\n",
    "print(e)\n",
    "print(f)"
   ]
  },
  {
   "cell_type": "markdown",
   "metadata": {},
   "source": [
    "La clase str tiene muchos métodos para manipular strings, aquí podemos obtener la lista:"
   ]
  },
  {
   "cell_type": "code",
   "execution_count": null,
   "metadata": {},
   "outputs": [],
   "source": [
    "print(dir(str))"
   ]
  },
  {
   "cell_type": "markdown",
   "metadata": {},
   "source": [
    "Aquí algunos ejemplos:"
   ]
  },
  {
   "cell_type": "code",
   "execution_count": null,
   "metadata": {},
   "outputs": [],
   "source": [
    "# El método isalpha retorna True si todos los caracteres del string están en el \n",
    "# alfabeto de algún lenguaje.\n",
    "print(\"abñ\".isalpha()) \n",
    "\n",
    "# Si hay algún número, espacio o puntuación dentro del string, retornará falso.\n",
    "print(\"t/\".isalpha())\n",
    "\n",
    "# El método is digit retorna True si todos los caracteres en el string son dígitos\n",
    "# numéricos\n",
    "print(\"34\".isdigit())\n",
    "\n",
    "s = \"estoy programando\"\n",
    "print(s.startswith(\"est\"))\n",
    "print(s.endswith(\"do\"))\n",
    "\n",
    "# Devuelve el indice donde comienza en s la secuencia que se pasa como argumento\n",
    "print(s.find(\"y p\"))\n",
    "\n",
    "# El método index retorna el indice donde comienza la secuencia. Acepta dos argumentos \n",
    "# opcionales: la posición inicial donde comenzar la búsqueda y la posición final \n",
    "# (hasta dónde llega buscando). Se usan de la siguiente forma: \n",
    "# str.index('string', beg=1 end=len(s))\n",
    "print(s.index('y', 4, 10))\n",
    "print(s.index('p', 5, 10))"
   ]
  },
  {
   "cell_type": "markdown",
   "metadata": {},
   "source": [
    "Otros métodos que actúan sobre strings retornan un string nuevo. Ejemplos:"
   ]
  },
  {
   "cell_type": "code",
   "execution_count": null,
   "metadata": {},
   "outputs": [],
   "source": [
    "s = \"hola a todos, cómo están\"\n",
    "s2 = s.split(' ')\n",
    "print(s2)\n",
    "s3 = '#'.join(s2)\n",
    "print(s3)\n",
    "print(s.replace(' ', '**'))\n",
    "print(s)\n",
    "s5 = s.partition(' ')\n",
    "print(s5)\n",
    "print(s)"
   ]
  },
  {
   "cell_type": "markdown",
   "metadata": {},
   "source": [
    "Como ya hemos visto muchas veces, podemos insertar valores de variables dentro de un string usando \"format\":"
   ]
  },
  {
   "cell_type": "code",
   "execution_count": null,
   "metadata": {},
   "outputs": [],
   "source": [
    "nombre = 'Juan Pérez'\n",
    "nota = 4.5\n",
    "if nota >= 4.0:\n",
    "    resultado = 'aprobado'\n",
    "else:\n",
    "    resultado = 'reprobado'\n",
    "\n",
    "template = \"Hola {0}, estás {1}. Tu nota fue un {2}\"\n",
    "print(template.format(nombre, resultado, nota))"
   ]
  },
  {
   "cell_type": "markdown",
   "metadata": {},
   "source": [
    "Si queremos incluir las llaves dentro del string, podemos hacer el \"escape\" usando doble llaves, por ejemplo, si queremos imprimir una simple definición de una clase en Java:"
   ]
  },
  {
   "cell_type": "code",
   "execution_count": null,
   "metadata": {},
   "outputs": [],
   "source": [
    "template = \"\"\"\n",
    "public class {0} \n",
    "{{\n",
    "       public static void main(String[] args) \n",
    "       {{\n",
    "           System.out.println({1});\n",
    "       }} \n",
    "}}\"\"\"\n",
    "\n",
    "print(template.format(\"MiClase\", \"'hola mundo'\"));"
   ]
  },
  {
   "cell_type": "markdown",
   "metadata": {},
   "source": [
    "A veces queremos incluir muchas variables dentro de un string, esto hace que sea difícil recordar el orden en que debemos escribirlas dentro de la función format. Una solución es usar argumentos con keywords en la función format:"
   ]
  },
  {
   "cell_type": "code",
   "execution_count": null,
   "metadata": {},
   "outputs": [],
   "source": [
    "print(\"{} {label} {}\".format(\"x\", \"y\", label=\"z\"))"
   ]
  },
  {
   "cell_type": "code",
   "execution_count": null,
   "metadata": {},
   "outputs": [],
   "source": [
    "template = \"\"\"\n",
    "From: <{from_email}>\n",
    "To: <{to_email}>\n",
    "Subject: {subject}\n",
    "{message}\n",
    "\"\"\"\n",
    "\n",
    "print(template.format(\n",
    "    from_email = \"halobel@ing.puc.cl\",\n",
    "    to_email = \"cualquiera@example.com\",\n",
    "    message = \"\\nreproba3\",#ver como Python concatena esto automáticamente \n",
    "    subject = \"Este correo es urgente\")\n",
    "    )"
   ]
  },
  {
   "cell_type": "markdown",
   "metadata": {},
   "source": [
    "Podemos incluso usar contenedores como listas, tuplas o diccionarios como argumentos dentro de la función format:"
   ]
  },
  {
   "cell_type": "code",
   "execution_count": null,
   "metadata": {},
   "outputs": [],
   "source": [
    "emails = (\"a@ejemplo.com\", \"b@ejemplo.com\")\n",
    "message = {'subject': \"Tienes un correo\", 'message': \"Este es un correo para ti\"}\n",
    "template = \"\"\"\n",
    "From: <{0[0]}>\n",
    "To: <{0[1]}>\n",
    "Subject: {message[subject]} {message[message]}\n",
    "\"\"\" \n",
    "print(template.format(emails, message=message))"
   ]
  },
  {
   "cell_type": "markdown",
   "metadata": {},
   "source": [
    "Podemos incluso usar un diccionario con listas e indexar la lista dentro del string:"
   ]
  },
  {
   "cell_type": "code",
   "execution_count": null,
   "metadata": {},
   "outputs": [],
   "source": [
    "mensaje = {\"emails\": [\"yo@ejemplo.com\", \"tu@ejemplo.com\"], \"subject\": \"mira este correo\", \"message\": \"Sorry no era tan importante\"}\n",
    "\n",
    "template = \"\"\"\n",
    "From: <{0[emails][0]}>\n",
    "To: <{0[emails][1]}>\n",
    "Subject: {0[subject]}\n",
    "{0[message]}\"\"\"\n",
    "\n",
    "print(template.format(mensaje))"
   ]
  },
  {
   "cell_type": "markdown",
   "metadata": {},
   "source": [
    "Esto puede ser aún mejor, podemos pasar cualquier objeto como argumento, por ejemplo, una instancia de una clase, luego dentro del string podemos acceder a cualquiera de los atributos del objeto:"
   ]
  },
  {
   "cell_type": "code",
   "execution_count": null,
   "metadata": {},
   "outputs": [],
   "source": [
    "class EMail:\n",
    "    def __init__(self, from_addr, to_addr, subject, message):\n",
    "        self.from_addr = from_addr\n",
    "        self.to_addr = to_addr\n",
    "        self.subject = subject\n",
    "        self.message = message\n",
    "        \n",
    "email = EMail(\"a@ejemplo.com\", \"b@ejemplo.com\",\"Tienes un correo\",\"\\nEl mensaje es inútil\\n\\nSaludos\")\n",
    "template = \"\"\"\n",
    "From: <{0.from_addr}>\n",
    "To: <{0.to_addr}>\n",
    "Subject: {0.subject}\n",
    "{0.message}\"\"\"\n",
    "print(template.format(email))"
   ]
  },
  {
   "cell_type": "markdown",
   "metadata": {},
   "source": [
    "También podemos mejorar el formato de los strings que se imprimen, por ejemplo, en casos como la impresión de una tabla con datos, muchas veces queremos que datos pertenecientes a la misma variable se vean alineados en columnas:"
   ]
  },
  {
   "cell_type": "code",
   "execution_count": null,
   "metadata": {},
   "outputs": [],
   "source": [
    "compra = [('leche', 2, 120), ('pan', 3.5, 800), ('arroz', 1.75, 960)]\n",
    "\n",
    "print(\"PRODUCTO  CANTIDAD   PRECIO   SUBTOTAL\")\n",
    "for producto, precio, cantidad in compra:\n",
    "    subtotal = precio * cantidad\n",
    "    print(\"{0:8s}{1: ^9d}    ${2: <8.2f}${3: >7.2f}\".format(producto, cantidad, precio, subtotal))"
   ]
  },
  {
   "cell_type": "markdown",
   "metadata": {},
   "source": [
    "Notar que dentro de cada llave existe un item tipo diccionario, es decir, antes de los dos puntos va el índice del argumento dentro de la función format. Después de los dos puntos, por ejemplo, \"8s\", significa que el dato es un string de 8 caracteres. Por default, si el string es más corto que los 8 caracteres, el resto se llenará con espacios (por la derecha). No olvidar que también por default si el string que ingresamos es más largo que los 8 caracteres, este no será truncado:"
   ]
  },
  {
   "cell_type": "code",
   "execution_count": null,
   "metadata": {},
   "outputs": [],
   "source": [
    "compra = [('lecheeeeeeeeeeeeeee', 2, 120), ('pan', 3.5, 800), ('arroz', 1.75, 960)]\n",
    "\n",
    "print(\"PRODUCTO  CANTIDAD   PRECIO   SUBTOTAL\")\n",
    "for producto, precio, cantidad in compra:\n",
    "    subtotal = precio * cantidad\n",
    "    print(\"{0:8s}{1: ^9d}    ${2: <8.2f}${3: >7.2f}\".format(producto, cantidad, precio, subtotal))"
   ]
  },
  {
   "cell_type": "markdown",
   "metadata": {},
   "source": [
    "Podemos cambiar esta situación obligando a que el string sea truncado si se pasa del largo máximo, basta con agregar un punto (precisión) antes del número que indica el largo del string:"
   ]
  },
  {
   "cell_type": "code",
   "execution_count": null,
   "metadata": {},
   "outputs": [],
   "source": [
    "compra = [('lecheeeeeeeeeeeeeee', 2, 120), ('pan', 3.5, 800), ('arroz', 1.75, 960)]\n",
    "\n",
    "print(\"PRODUCTO  CANTIDAD   PRECIO   SUBTOTAL\")\n",
    "for producto, precio, cantidad in compra:\n",
    "    subtotal = precio * cantidad\n",
    "    print(\"{0:.8s}{1: ^9d}    ${2: <8.2f}${3: >7.2f}\".format(producto, cantidad, precio, subtotal))"
   ]
  },
  {
   "cell_type": "markdown",
   "metadata": {},
   "source": [
    "Para la cantidad de producto el formato es {1: ^9d}, el 1 corresponde al índice del argumento en la función format, el espacio después de los dos puntos dice que los lugares vacíos deben ser llenados con espacios (en los tipos enteros el default es llenar con ceros), el símbolo ^ es para que el número quede centrado en el espacio disponible, \"9d\" significa que será un entero de hasta 9 dígitos. Notar que siempre el orden de estos parámetros (aunque son opcionales) debe ser (de izquierda a derecha después de los dos puntos): Primero el caracter para llenar los espacios vacíos, después el alineamiento, después el tamaño y finalmente el tipo.\n",
    "\n",
    "Para el precio por ejemplo, {2: <8.2f} significa que el dato se leerá del tercer argumento de la función format, luego los lugares que queden libres se llenarán con espacios, el símbolo < significa que el alineamiento es a la izquierda, el formato será un float de hasta 8 caracteres, con dos decimales.\n",
    "\n",
    "De la misma forma, para el subtotal, {3: >7.2f} significa que el dato se sacará del cuarto argumento dentro de la función format, el caracter de llenado será espacio, el alineamiento es a la derecha, será un float de 7 digitos, dos de ellos decimales e incluyendo el '.' como caracter.\n"
   ]
  },
  {
   "cell_type": "markdown",
   "metadata": {},
   "source": [
    "# Bytes e I/O\n",
    "Al comienzo del capítulo dijimos que los strings en Python eran una colección de caracteres Unicode inmutables. Unicode no es realmente un formato válido de almacenamiento de datos, muchas veces leemos información correspondiente a algún string desde un archivo o un socket en bytes, no en Unicode. Los Bytes son el formato de almacenamiento de más bajo nivel, representan una secuencia de 8 bits, descritas en general como un entero entre 0 y 255, un hexadecimal equivalente entre 0 y FF, o un literal (sólo se permiten los caracteres ascii para representar bytes). Los bytes a secas pueden representar cualquier cosa, desde caracteres codificados de un string, o pixeles de una imagen. En general necesitamos saber la forma en que fueron codificados para poder interpretar el tipo de datos correcto representados por los bytes. Por ejemplo, un patrón binario de 8 bits (1 byte) puede corresponder a un caracter en particular si lo decodificamos como un ASCII, pero puede corresponder a un caracter completamente distinto si lo decodificamos como un caracter Unicode.\n",
    "En Python los bytes se representan con el objeto tipo \"bytes\", para declarar que un objeto es un byte simplemente se pone al comienzo del objeto una \"b\". Por ejemplo:"
   ]
  },
  {
   "cell_type": "code",
   "execution_count": null,
   "metadata": {},
   "outputs": [],
   "source": [
    "caracteres = b'\\x63\\x6c\\x69\\x63\\x68\\xe9' #aquí estamos diciendo que lo que está entre las comillas es un objeto de bytes                                         \n",
    "print(caracteres) \n",
    "print(caracteres.decode(\"latin-1\"))\n",
    "caracteres = b\"ab\"\n",
    "caracteres = b\"\\x61\\x62\"  # 61 y 62 es la representación en hexadecimal de a y b respectivamente\n",
    "print(caracteres.decode(\"ascii\"))\n",
    "caracteres = bytes((97, 98))  # 97 y 98 corresponden al código ascii de los caracteres a y b repectivamente\n",
    "print(caracteres)"
   ]
  },
  {
   "cell_type": "code",
   "execution_count": null,
   "metadata": {},
   "outputs": [],
   "source": [
    "caracteres = b\"áb\" # esto genera un error ya que sólo se pueden usar literales ascii para la creación de bytes"
   ]
  },
  {
   "cell_type": "markdown",
   "metadata": {},
   "source": [
    "El símbolo escape \"\\x\" indica que los siguientes dos caracteres después de la x corresponden a un byte usando dígitos hexadecimales. Los bytes que coinciden con los bytes de ASCII son reconocidos inmediatamente, así cuando los tratamos de imprimir aparecen correctamente (clich), el resto se imprime como hexadecimal. La \"b\" en la impresión nos recuerda que lo que está a la derecha es un objeto de bytes, no un string. La sentencia \"caracteres.decode(\"latin-1\")\" decodifica la secuencia de bytes usando el alfabeto \"latin-1\".\n",
    "\n",
    "El método \"decode\" retorna un string normal (Unicode). Si por ejemplo hubiésemos usado otro alfabeto, habríamos obtenido otro string:"
   ]
  },
  {
   "cell_type": "code",
   "execution_count": null,
   "metadata": {},
   "outputs": [],
   "source": [
    "caracteres = b'\\x63\\x6c\\x69\\x63\\x68\\xe9'\n",
    "print(caracteres.decode(\"latin-1\"))\n",
    "print(caracteres.decode(\"iso8859-5\"))"
   ]
  },
  {
   "cell_type": "markdown",
   "metadata": {},
   "source": [
    "Para codificar un string en distintos alfabetos, simplemente usamos el método encode de la clase str, obviamente es necesario ingresar como argumento el set de caracteres o alfabeto con que se quiere codificar:"
   ]
  },
  {
   "cell_type": "code",
   "execution_count": null,
   "metadata": {},
   "outputs": [],
   "source": [
    "characters = \"estación\"\n",
    "print(characters.encode(\"UTF-8\"))  # 8-bit Unicode Transformation Format\n",
    "print(characters.encode(\"latin-1\"))\n",
    "print(characters.encode(\"CP437\"))\n",
    "\n",
    "# No se puede codificar en ASCII el caracter \"ó\" ya que no existe dentro \n",
    "# de los 128 caracteres de ASCII\n",
    "print(characters.encode(\"ascii\"))  "
   ]
  },
  {
   "cell_type": "markdown",
   "metadata": {},
   "source": [
    "El método encode nos ofrece opciones de cómo manejar el caso en que el string que se quiere codificar no puede ser codificado con el alfabeto requerido, estas opciones se ingresan a través del argumento opcional \"errors\", los valores posibles son: 'strict'(default), 'replace', 'ignore' o 'xmlcharrefreplace'."
   ]
  },
  {
   "cell_type": "code",
   "execution_count": null,
   "metadata": {},
   "outputs": [],
   "source": [
    "print(characters.encode(\"ascii\", errors = 'replace'))  # en ascii se reemplaza el caracter desconocido con \"?\"\n",
    "print(characters.encode(\"ascii\", errors = 'ignore'))\n",
    "print(characters.encode(\"ascii\", errors = 'xmlcharrefreplace'))  # se crea una entidad xml que representa el caracter Unicode"
   ]
  },
  {
   "cell_type": "markdown",
   "metadata": {},
   "source": [
    "En general si queremos codificar un string y no sabemos con qué alfabeto deberíamos codificar, lo mejor es usar UTF-8, ya que es \"backwards\" compatible con ASCII (los primeros 128 caracteres de UTF-8 son los mismos que en ASCII). Recordar siempre que los objetos tipo byte son **inmutables**."
   ]
  },
  {
   "cell_type": "markdown",
   "metadata": {},
   "source": [
    "## bytearrays\n",
    "Tal como el nombre lo sugiere, los bytearrays son arreglos de bytes, y a diferencia de los bytes **son mutables**. Los bytearrays se comportan como las listas, podemos indexar con la notación de slices, también podemos ir agregando bytes con el método extend. Para construir un bytearray podemos ingresar un byte inicial:"
   ]
  },
  {
   "cell_type": "code",
   "execution_count": null,
   "metadata": {},
   "outputs": [],
   "source": [
    "ba_1 = bytearray(b\"holamundo\")\n",
    "print(ba_1)\n",
    "print(ba_1[3:7])\n",
    "ba_1[4:6] = b\"\\x15\\xa3\"\n",
    "print(ba_1)\n",
    "ba_1.extend(b\"programa\")\n",
    "print(ba_1)\n",
    "print(ba_1[0])  # Notar que aquí se imprime un entero, el ascii que corresponde a la letra \"h\"\n",
    "print(bin(ba_1[0]))\n",
    "print(bin(ba_1[0])[2:].zfill(8))"
   ]
  },
  {
   "cell_type": "markdown",
   "metadata": {},
   "source": [
    "Notar que la última línea es para imprimir directamente los bits correspondientes al primer byte (representado en el literal h o el entero 104). El \"[2:]\" es para partir desde la tercera posición, ya que las primeras dos posiciones contienen los caracteres \"0b\", que simplemente indica que el formato es en binario (línea anterior). Al agregar \".zfill(8)\" indicamos que se usarán 8 bits para representar el byte, lo cual tiene sentido cuando hay ceros por el lado izquierdo y el default no los muestra (línea anterior tiene sólo 7 bits después del \"0b\").\n",
    "\n",
    "Un caracter de un byte puede ser convertido a un entero usando la función ord:"
   ]
  },
  {
   "cell_type": "code",
   "execution_count": null,
   "metadata": {},
   "outputs": [],
   "source": [
    "print(ord(b\"a\"))\n",
    "b = bytearray(b'abcdef')\n",
    "b[3] = ord(b'g')  # La letra g tiene como código ascii el 103\n",
    "b[4] = 68  # La letra D tiene como código ascii el 68, esto sería lo mismo que ingresar b[4] = ord(b'D')\n",
    "print(b)"
   ]
  },
  {
   "cell_type": "markdown",
   "metadata": {},
   "source": [
    "# Manejo de Archivos\n",
    "\n",
    "En general hasta ahora hemos operado con la lectura y escritura de archivos de texto, sin embargo los sistemas operativos representan los archivos como secuencias de bytes, no como texto. Dado que leer bytes y convertirlos a texto es una operación muy común en archivos, Python se encarga de manejar los bytes que vienen o van transformándolos a la respectiva representación en string con los encoders/decoders correspondientes. La ya conocida función \"open\" nos permite además de abrir archivos, ingresar como argumentos el set de caracteres que se usará para codificar los bytes y la estrategia que se debe serguir cuando aparezcan bytes inconsistentes con el formato:"
   ]
  },
  {
   "cell_type": "code",
   "execution_count": null,
   "metadata": {},
   "outputs": [],
   "source": [
    "file = open('archivo_ejemplo', \"r\", encoding='ascii', errors='replace')\n",
    "print(file.read())\n",
    "file.close()"
   ]
  },
  {
   "cell_type": "code",
   "execution_count": null,
   "metadata": {
    "collapsed": true
   },
   "outputs": [],
   "source": [
    "contenido = \"sorry pero ahora yo soy lo que habrá dentro del archivo\"\n",
    "file = open(\"archivo_ejemplo\", \"w\", encoding=\"ascii\", errors=\"replace\")\n",
    "file.write(contenido)\n",
    "file.close()"
   ]
  },
  {
   "cell_type": "markdown",
   "metadata": {},
   "source": [
    "Ahora, si nuevamente tratamos de leer el archivo como al comienzo:"
   ]
  },
  {
   "cell_type": "code",
   "execution_count": null,
   "metadata": {},
   "outputs": [],
   "source": [
    "file = open('archivo_ejemplo', \"r\", encoding='ascii', errors='replace')\n",
    "print(file.read())\n",
    "file.close()"
   ]
  },
  {
   "cell_type": "markdown",
   "metadata": {},
   "source": [
    "Podemos también agregar contenido al final del archivo, reemplazando el modo de apertura del archivo, cambiando la \"w\" por una \"a\":"
   ]
  },
  {
   "cell_type": "code",
   "execution_count": null,
   "metadata": {},
   "outputs": [],
   "source": [
    "contenido = \"\\nyo me agregaré al final\"\n",
    "file = open(\"archivo_ejemplo\", \"a\", encoding=\"ascii\", errors=\"replace\")\n",
    "file.write(contenido)\n",
    "file.close()\n",
    "\n",
    "file = open('archivo_ejemplo', \"r\", encoding='ascii', errors='replace')\n",
    "print(file.read())\n",
    "file.close()"
   ]
  },
  {
   "cell_type": "markdown",
   "metadata": {},
   "source": [
    "Para abrir un archivo como binario, simplemente debemos agregar una \"b\" por el lado derecho del modo de apertura, por ejemplo, \"wb\" o \"rb\". El archivo se comportará igual que un archivo de texto, sólo que sin la codificación automática de byte a texto."
   ]
  },
  {
   "cell_type": "code",
   "execution_count": null,
   "metadata": {},
   "outputs": [],
   "source": [
    "contenido = b\"abcde12\"\n",
    "file = open(\"archivo_ejemplo_2\", \"wb\")\n",
    "file.write(contenido)\n",
    "file.close()\n",
    "\n",
    "file = open('archivo_ejemplo_2', \"rb\")\n",
    "print(file.read())\n",
    "file.close()"
   ]
  },
  {
   "cell_type": "markdown",
   "metadata": {},
   "source": [
    "Podemos además concatenar bytes simplemente con el operador suma, en el siguiente ejemplo construimos un contenido dinámico para ser escrito en un archivo de bytes, después leemos una cantidad fija de bytes desde el mismo archivo:"
   ]
  },
  {
   "cell_type": "code",
   "execution_count": null,
   "metadata": {},
   "outputs": [],
   "source": [
    "num_lineas = 100\n",
    "\n",
    "file = open(\"archivo_ejemplo_3\", \"wb\")\n",
    "for i in range(num_lineas):\n",
    "    # A la función \"bytes\" debemos pasarle un iterable con el contenido a convertir \n",
    "    # por eso le pasamos el entero dentro de una lista  \n",
    "    contenido = b\"linea_\" + bytes([i]) + b\" abcde12 \"                                             \n",
    "    file.write(contenido)\n",
    "file.close()\n",
    "\n",
    "file = open('archivo_ejemplo_3', \"rb\")\n",
    "# El número dentro de la función read nos dice el número de bytes que se van a leer del archivo\n",
    "print(file.read(41))\n",
    "file.close()"
   ]
  },
  {
   "cell_type": "markdown",
   "metadata": {},
   "source": [
    "## Context Manager\n",
    "Dado que siempre necesitamos cerrar un archivo después de usarlo, debemos considerar la posibilidad de que ocurran excepciones mientras el archivo está abierto. Una forma clara de hacerlo es cerrar el archivo dentro de la sentencia finally: después de un try:. El problema es que esto genera mucho código extra. Afortuadamente en Python existe una forma de hacer lo mismo con menos código, a través de un \"context manager\", que se encarga de ejecutar las sentencias try y finally sin la necesidad de llamarlas directamente, sólo necesitamos llamar al archivo que abriremos con la sentencia with. Ejemplo:"
   ]
  },
  {
   "cell_type": "code",
   "execution_count": null,
   "metadata": {
    "collapsed": true
   },
   "outputs": [],
   "source": [
    "with open(\"archivo_ejemplo_4\", \"r\") as file:\n",
    "    contenido = file.read()"
   ]
  },
  {
   "cell_type": "markdown",
   "metadata": {},
   "source": [
    "El código anterior sería equivalente a hacer lo siguiente:"
   ]
  },
  {
   "cell_type": "code",
   "execution_count": null,
   "metadata": {
    "collapsed": true
   },
   "outputs": [],
   "source": [
    "file = open(\"archivo_ejemplo_4\", \"r\")\n",
    "try:\n",
    "    contenido = file.read()\n",
    "finally:\n",
    "    file.close()"
   ]
  },
  {
   "cell_type": "markdown",
   "metadata": {},
   "source": [
    "Si ejecutamos dir en un objeto tipo archivo:"
   ]
  },
  {
   "cell_type": "code",
   "execution_count": null,
   "metadata": {},
   "outputs": [],
   "source": [
    "file = open(\"archivo_ejemplo_4\", \"w\")\n",
    "print(dir(file))\n",
    "file.close()"
   ]
  },
  {
   "cell_type": "markdown",
   "metadata": {},
   "source": [
    "Vemos que existen dos métodos llamados **\\__enter\\__** y **\\__exit\\__**. Estos dos métodos transforman el archivo en un \"context manager\". El método **\\__exit\\__** asegura que el archivo será cerrado incluso si aparece una excepción mientras esté abierto. El método **\\__enter\\__** inicializa el archivo o realiza cualquier acción necesaria para setear el contexto del objeto.\n",
    "\n",
    "Para asegurarnos que un archivo usará los métodos **\\__enter\\__** y **\\__exit\\__**, simplemente debemos llamar a la apertura del archivo con el método **with**.\n",
    "\n",
    "Podemos crear nuestros propios context managers, simplemente creamos cualquier clase, agregamos los métodos **\\__enter\\__** y **\\__exit\\__** y podemos llamar a nuestra clase a través del método **with**. Del siguiente ejemplo se puede ver cómo el método **\\__exit\\__** se ejecuta una vez que nos salimos del scope de la sentencia **with**."
   ]
  },
  {
   "cell_type": "code",
   "execution_count": null,
   "metadata": {},
   "outputs": [],
   "source": [
    "import string, random\n",
    "\n",
    "class StringUpper(list): \n",
    "        \n",
    "    def __enter__(self):\n",
    "        return self\n",
    "    \n",
    "    def __exit__(self, type, value, tb):\n",
    "        for i in range(len(self)):\n",
    "            self[i] = self[i].upper()\n",
    "        \n",
    "\n",
    "with StringUpper() as s_upper:\n",
    "    for i in range(20):\n",
    "        # Aquí se va seleccionando en forma aleatoria un ascii en minúsculas y las\n",
    "        # agregamos a la lista\n",
    "        s_upper.append(random.choice(string.ascii_lowercase))\n",
    "    print(s_upper)\n",
    "        \n",
    "print(s_upper)"
   ]
  },
  {
   "cell_type": "markdown",
   "metadata": {},
   "source": [
    "El código anterior simplemente corresponde a una clase que hereda de la clase **list**, al implementar los métodos **\\__enter\\__** y **\\__exit\\__** podemos instanciar la clase a través de un context manager, en este ejemplo en particular, el context manager se encarga de transformar todos los caracteres ascii de la lista a mayúsculas."
   ]
  },
  {
   "cell_type": "markdown",
   "metadata": {},
   "source": [
    "# Serialización de objetos\n",
    "El término serialización se refiere al procedimiento de transformar cualquier objeto en una secuencia o serie de bytes que nos permite su almacenamiento (o transferencia) del objeto. Muchas veces es necesario que nuestros programas guarden información, ya sea a través de archivos de texto o cualquier tipo de objeto, con la idea de que otro programa o en una ejecución posterior del mismo programa podamos cargar los objetos guardados y usarlos nuevamente.\n",
    "\n",
    "El módulo **pickle** de Python nos permite serializar cualquier objeto, por ejemplo, el métodos **dumps** nos permite serializar un objeto, mientras el método **loads** sirve para deserializar el objeto serializado retornando el objeto original, ejemplo:"
   ]
  },
  {
   "cell_type": "code",
   "execution_count": null,
   "metadata": {},
   "outputs": [],
   "source": [
    "import pickle\n",
    "\n",
    "tupla = (\"a\", 1, 3, \"hola\")\n",
    "serial = pickle.dumps(tupla)\n",
    "print(serial)\n",
    "print(type(serial))\n",
    "print(pickle.loads(serial))"
   ]
  },
  {
   "cell_type": "markdown",
   "metadata": {},
   "source": [
    "Pickle también nos ofrece los métodos **dump** y **load** (casi el mismo nombre que antes pero sin la \"s\"), los cuales también serializan y deserializan pero a través de archivos, es decir, **dump** guarda un archivo con el objeto serializado y **load** carga el archivo de vuelta. El siguiente ejemplo muestra cómo usar los métodos:"
   ]
  },
  {
   "cell_type": "code",
   "execution_count": null,
   "metadata": {
    "collapsed": true
   },
   "outputs": [],
   "source": [
    "lista = [1,2,3,7,8,3]\n",
    "\n",
    "with open(\"mi_lista\", 'wb') as file:\n",
    "    pickle.dump(lista, file)\n",
    "\n",
    "with open(\"mi_lista\", 'rb') as file:\n",
    "    mi_lista = pickle.load(file)\n",
    "    # Esto generaría un error si el objeto que cargamos no es igual al que guardamos\n",
    "    assert mi_lista == lista "
   ]
  },
  {
   "cell_type": "markdown",
   "metadata": {},
   "source": [
    "Pickle es un módulo no seguro, nunca deben cargar un archivo pickle cuando no conocen su procedencia, ya que éste podría ejecutar código malicioso en sus computadores. No entraremos en detalles sobre cómo inyectar código a través del módulo pickle, pero para los interesados en el siguiente link pueden aprender más al respecto: http://www.cs.jhu.edu/~s/musings/pickle.html. También es importante mencionar que si estamos en Python 3 y vamos a serializar un objeto que posteriormente será deserializado en Python 2, debemos pasar un argumento extra a las funciones **dump** o **dumps**, el nombre del argumento es \"protocol\" y debe ser igual a 2 (el default es 3). Ejemplo:"
   ]
  },
  {
   "cell_type": "code",
   "execution_count": null,
   "metadata": {
    "collapsed": true
   },
   "outputs": [],
   "source": [
    "mi_objeto = [1,2,3,4]\n",
    "serial = pickle.dumps(mi_objeto, protocol=2)"
   ]
  },
  {
   "cell_type": "markdown",
   "metadata": {},
   "source": [
    "Cuando pickle trata de serializar un objeto, lo que trata de hacer es es guardar el atributo **\\__dict\\__** del objeto. Lo interesante es que antes de chequear el atributo **\\__dict\\__**, pickle revisa si es que existe un método llamado **\\__getstate\\__**, si existe, serializará lo que retorna el método **\\__getstate\\__** en vez del diccionario (**\\__dict\\__**) del objeto. Esto nos permite personalizar la serialización."
   ]
  },
  {
   "cell_type": "code",
   "execution_count": null,
   "metadata": {},
   "outputs": [],
   "source": [
    "class Persona:\n",
    "    \n",
    "    def __init__(self, nombre, edad):\n",
    "        self.nombre = nombre\n",
    "        self.edad = edad\n",
    "        self.mensaje = \"No pasa nada\"\n",
    "        \n",
    "    def __getstate__(self):\n",
    "        # Retorna el estado actual del objeto, para que sea serializado por pickle\n",
    "        # Aquí creamos una copia del diccionario actual, para modificar la copia y no el objeto original\n",
    "        nueva = self.__dict__.copy()\n",
    "        nueva.update({\"mensaje\" : \"Me están serializando!!\"})\n",
    "        return nueva\n",
    "\n",
    "m = Persona(\"Juan\", 30)\n",
    "print(m.mensaje)\n",
    "serial = pickle.dumps(m)\n",
    "m2 = pickle.loads(serial)\n",
    "\n",
    "#el objeto original sigue igual\n",
    "print(m2.mensaje)\n",
    "print(m.mensaje)"
   ]
  },
  {
   "cell_type": "markdown",
   "metadata": {},
   "source": [
    "Naturalmente también podemos personalizar la des-serialización, implementando el método **\\__setstate\\__**, que se ejecutará cada vez que llamamos a load o loads, para setear el estado actual del objeto recién deserializado. El método **\\__setstate\\__** recibe como argumento el estado del objeto que fue serializado (el retornado por **\\__getstate\\__**) y debe setear el estado en el cual queremos que el objeto deserializado quede, seteando **self.\\__dict\\__** . Al recibir el argumento, uno puede realizar cualquier acción o modificación dentro del método. Ejemplo:"
   ]
  },
  {
   "cell_type": "code",
   "execution_count": null,
   "metadata": {},
   "outputs": [],
   "source": [
    "class Persona:\n",
    "    \n",
    "    def __init__(self, nombre, edad):\n",
    "        self.nombre = nombre\n",
    "        self.edad = edad\n",
    "        self.mensaje = \"No pasa nada\"\n",
    "        \n",
    "    def __getstate__(self):\n",
    "        nueva = self.__dict__.copy()\n",
    "        nueva.update({\"mensaje\" : \"Me están serializando!!\"})\n",
    "        \n",
    "        #esto es lo que será serializado por pickle\n",
    "        return nueva \n",
    "\n",
    "    def __setstate__(self, state):\n",
    "        print(\"Objeto recién des-serializado, seteando su estado...\\n\")\n",
    "        state.update({\"nombre\" : state[\"nombre\"] + \" deserializado\"})\n",
    "        self.__dict__ = state\n",
    "    \n",
    "m = Persona(\"Juan\", 30)\n",
    "print(m.nombre)\n",
    "serial = pickle.dumps(m)\n",
    "m2 = pickle.loads(serial)\n",
    "print(m2.nombre)"
   ]
  },
  {
   "cell_type": "markdown",
   "metadata": {},
   "source": [
    "Una aplicación práctica de los métodos **\\__getstate\\__** y **\\__setstate\\__**, es cuando necesitamos serializar un objeto que contiene un atributo que perderá sentido en la serialización. Por ejemplo, si un objeto contiene una conexión a una base de datos, al serializar el objeto, naturalmente la conexión en el objeto serializado se perderá, de hecho pickle genera un error cuando tratamos de serializar este tipo de objetos. Una solución es usar los métodos **\\__getstate\\__** y **\\__setstate\\__**. Primero, usamos **\\__getstate\\__** para eliminar la conexión a la base de datos del objeto que se va a serializar (borramos la conexión de la copia del diccionario), y cuando deserializamos el objeto de vuelta, lo volvemos a conectar manualmente a la base de datos dentro del método **\\__setstate\\__**."
   ]
  },
  {
   "cell_type": "markdown",
   "metadata": {},
   "source": [
    "## Serialización de objetos web con JSON\n",
    "Una de las desventajas de los objetos serializados con pickle es que sólo pueden ser deserializados por otros programas de Python. JSON (Java Script Object Notation) es un formato standard de intercambio de datos que puede ser interpretado por muchos sistemas distintos. JSON además puede ser fácilmente leído y entendido por humanos. El formato en que almacena la información es muy parecido a los diccionarios de Python. En JSON sólo es posible serializar datos (int, str, floats, diccionarios y listas), no es posible serializar funciones o clases. En Python existe un módulo que trasforma datos desde Python al formato JSON, el módulo se llama **json**, provee una interfaz similar a la de pickle (métodos dump(s) y load(s)). El output de una serialización usando el método **dump** del módulo **json** es obviamente un objeto en formato JSON. Ejemplo:"
   ]
  },
  {
   "cell_type": "code",
   "execution_count": null,
   "metadata": {},
   "outputs": [],
   "source": [
    "import json\n",
    "\n",
    "class Persona:\n",
    "    \n",
    "    def __init__(self, nombre, edad, estado_civil):\n",
    "        self.nombre = nombre\n",
    "        self.edad = edad\n",
    "        self.estado_civil = estado_civil\n",
    "        self.idn = next(Persona.gen)\n",
    "\n",
    "    def get_id():\n",
    "        cont = 1\n",
    "        while True:\n",
    "            yield cont\n",
    "            cont += 1\n",
    "\n",
    "    gen = get_id()\n",
    "            \n",
    "p = Persona(\"Juan\", 35, \"Soltero\")\n",
    "json_string = json.dumps(p.__dict__)\n",
    "print(\"datos en formato JSON: \")\n",
    "print(json_string)\n",
    "print(\"datos en formato Python: \")\n",
    "print(json.loads(json_string))"
   ]
  },
  {
   "cell_type": "markdown",
   "metadata": {},
   "source": [
    "También podemos escribir directamente objetos tipo json como un string en Python, siguiendo el formato de los datos json. En el siguiente ejemplo creamos un objeto tipo json directamente (sin json.dumps) y luego lo \"deserializamos\" a un objeto tipo Python con json.loads:"
   ]
  },
  {
   "cell_type": "code",
   "execution_count": null,
   "metadata": {},
   "outputs": [],
   "source": [
    "json_string = '{\"nombre\":\"Jorge\",\"edad\":34,\"estado_civil\": \"casado\", \"puntaje\" : 90.5}'\n",
    "print(json.loads(json_string))"
   ]
  },
  {
   "cell_type": "markdown",
   "metadata": {},
   "source": [
    "También podemos cargar los datos con formatos especiales, por ejemplo, si en el caso anterior queremos que los datos tipo enteros (la edad por ejemplo) se carguen como un float:"
   ]
  },
  {
   "cell_type": "code",
   "execution_count": null,
   "metadata": {},
   "outputs": [],
   "source": [
    "json_string = '{\"nombre\":\"Jorge\",\"edad\":34,\"estado_civil\": \"casado\", \"puntaje\" : 90.5}'\n",
    "print(json.loads(json_string,parse_int=float))"
   ]
  },
  {
   "cell_type": "markdown",
   "metadata": {},
   "source": [
    "Por default, en Python json convierte todos los datos a un diccionario, si queremos convertir en otro tipo de datos, podemos usar el argumento **object_hook** con una función lambda que será aplicada a cada dato del objeto. Por ejemplo, si queremos cargar datos json en una lista de tuplas en vez de un diccionario:"
   ]
  },
  {
   "cell_type": "code",
   "execution_count": null,
   "metadata": {},
   "outputs": [],
   "source": [
    "json_string = '{\"nombre\":\"Jorge\",\"edad\":34,\"estado_civil\": \"casado\", \"puntaje\" : 90.5}'\n",
    "datos = json.loads(json_string, object_hook = lambda dict_obj: [tuple((i,j)) for i,j in dict_obj.items()])\n",
    "print(datos)"
   ]
  },
  {
   "cell_type": "markdown",
   "metadata": {},
   "source": [
    "Podemos crear cualquier función y aplicarla a los datos que serán convertidos desde json:"
   ]
  },
  {
   "cell_type": "code",
   "execution_count": null,
   "metadata": {},
   "outputs": [],
   "source": [
    "def funcion(dict_obj):\n",
    "    lista = []\n",
    "    for k in dict_obj:\n",
    "        lista.extend([k, str(dict_obj[k])])\n",
    "    return lista\n",
    "\n",
    "json_string = '{\"nombre\":\"Jorge\",\"edad\":34,\"estado_civil\": \"casado\", \"puntaje\" : 90.5}'\n",
    "datos = json.loads(json_string, object_hook = lambda dict_obj: funcion(dict_obj))\n",
    "print(datos)"
   ]
  },
  {
   "cell_type": "markdown",
   "metadata": {},
   "source": [
    "Podemos además personalizar la forma en que codificamos los datos a formato json, creando una clase que hereda de la clase json.JSONEncoder y sobreescribiendo el método **default**:"
   ]
  },
  {
   "cell_type": "code",
   "execution_count": null,
   "metadata": {},
   "outputs": [],
   "source": [
    "from datetime import datetime\n",
    "\n",
    "\n",
    "class PersonaEncoder(json.JSONEncoder):\n",
    "    \n",
    "       def default(self, obj):\n",
    "            # Creamos una serialización personalizada para el\n",
    "            # el tipo de objeto Persona\n",
    "            \n",
    "            if isinstance(obj, Persona):\n",
    "                return {'Persona_id': obj.idn, \n",
    "                        'nombre': obj.nombre, \n",
    "                        'edad': obj.edad, \n",
    "                        'estado_civil': obj.estado_civil, \n",
    "                        'fecha_nac' : datetime.now().year - obj.edad}\n",
    "            \n",
    "            # Mantenemos la serialización por defecto para \n",
    "            # cualquier otro tipo de objeto\n",
    "            return super().default(obj)\n",
    "\n",
    "\n",
    "p1 = Persona(\"Juan\", 37, \"Soltero\")\n",
    "p2 = Persona(\"Jorge\", 33, \"Casado\")\n",
    "p3 = Persona(\"Pedro\", 24, \"Soltero\")\n",
    "\n",
    "print(\"Serialización default:\\n\")\n",
    "\n",
    "# con esto serializamos directamente usando el default\n",
    "json_string = json.dumps(p1.__dict__)\n",
    "print(json_string)\n",
    "\n",
    "# Ahora serializamos usando el método personalizado\n",
    "print(\"\\nSerialización personalizada:\\n\")\n",
    "json_string = json.dumps(p1, cls = PersonaEncoder)\n",
    "print(json_string)\n",
    "\n",
    "json_string = json.dumps(p2, cls = PersonaEncoder)\n",
    "print(json_string)\n",
    "\n",
    "json_string = json.dumps(p3, cls = PersonaEncoder)\n",
    "print(json_string)"
   ]
  }
 ],
 "metadata": {
  "kernelspec": {
   "display_name": "Python 3",
   "language": "python",
   "name": "python3"
  },
  "language_info": {
   "codemirror_mode": {
    "name": "ipython",
    "version": 3
   },
   "file_extension": ".py",
   "mimetype": "text/x-python",
   "name": "python",
   "nbconvert_exporter": "python",
   "pygments_lexer": "ipython3",
   "version": "3.6.1"
  }
 },
 "nbformat": 4,
 "nbformat_minor": 2
}
