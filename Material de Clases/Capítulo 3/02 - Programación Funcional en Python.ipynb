{
 "cells": [
  {
   "cell_type": "markdown",
   "metadata": {},
   "source": [
    "<p>\n",
    "<font size='5' face='Georgia, Arial'>IIC-2115 Programación como herramienta para la ingeniería</font><br>\n",
    "<font size='1'>Basado en: &copy; 2015 Karim Pichara - Christian Pieringer. Todos los derechos reservados.</font>\n",
    "</p>"
   ]
  },
  {
   "cell_type": "markdown",
   "metadata": {},
   "source": [
    "# Programación Funcional\n",
    "\n",
    "En este capítulo explicaremos los conceptos básicos de programación funcional y cómo este estilo de programación se lleva a cabo en Python.\n",
    "\n",
    "De acuerdo al lenguaje de programación que estemos utilizando, podemos enfrentar un problema usando las siguientes estrategias:\n",
    "\n",
    "- **Procedural**: la solución se estructura como un programa lineal o una lista de instrucciones que dicen al computador qué se debe hacer con la entrada del programa.\n",
    "\n",
    "- **Declarativa**: el usuario escribe la especificación del problema a ser resuelto y el lenguaje determina la mejor forma de ejecutar los cálculos eficientemente. Un ejemplo son las consultas en SQL (que veremos más adelante en el curso), donde el usuario describe que datos quiere recibir y el motor SQL decide cómo revisar las tablas de la base de datos y que acciones debe ejecutar primero para obtener los datos de forma eficiente.\n",
    "\n",
    "- **Orientada a Objetos**: los programas estarán orientados a modelar las funcionalidades a través de la interacción entre objetos por medio de sus datos y comportamientos que consultan o modifican sus datos.\n",
    "\n",
    "- **Programación Funcional**: la solución del problema se estructura como un conjunto de funciones. Estas funciones deben tomar entradas y generan salidas. Las funciones no tienen datos propios o estados internos que modifican la salida de la función.\n",
    "\n",
    "Python es un lenguaje multiparadigma, es decir, las soluciones pueden ser escritas de forma procedural, orientada a objetos o funcional. Incluso, nuestros programas podrían ser escritos usando los diferentes enfoques de forma simultánea.\n",
    "\n",
    "En programación funcional, el valor de retorno de una función depende solamente de los parámetros que la función recibe. Si trabajamos con un paradigma estrictamente funcional, la función debe poder leer los elementos recibidos como parámetros para construir un valor de retorno, sin embargo, no debe poder modificar estos elementos."
   ]
  },
  {
   "cell_type": "markdown",
   "metadata": {},
   "source": [
    "<h1>Funciones de Python</h1>\n",
    "\n",
    "Existen muchas funciones que vienen implementadas en Python, principalmente con el propósito de simplificar y \n",
    "abstraer cálculos que pueden aplicar a objetos de clases distintas (_duck typing_). Pueden revisar todas ellas en la [documentación de funciones](https://docs.python.org/3/library/functions.html#sorted) de Python. Veamos algunos ejemplos:\n"
   ]
  },
  {
   "cell_type": "markdown",
   "metadata": {},
   "source": [
    "## `len`\n",
    "\n",
    "Retorna el número de elementos en algún tipo de contenedor (lista, diccionario, _set_, etc)"
   ]
  },
  {
   "cell_type": "code",
   "execution_count": null,
   "metadata": {},
   "outputs": [],
   "source": [
    "print(len([3,4,1,5,5,2]))\n",
    "print(len({'nombre': 'Juan', 'apellido': 'Martinez'}))\n",
    "print(len((4,6,2,5,6)))"
   ]
  },
  {
   "cell_type": "markdown",
   "metadata": {},
   "source": [
    "Esta función viene implementada como un método interno  `__len__` en la mayoría de las clases de Python:"
   ]
  },
  {
   "cell_type": "code",
   "execution_count": null,
   "metadata": {},
   "outputs": [],
   "source": [
    "print([3,4,1,5,5,2].__len__())\n",
    "print({'nombre': 'Juan', 'apellido': 'Martinez'}.__len__())"
   ]
  },
  {
   "cell_type": "markdown",
   "metadata": {},
   "source": [
    "La función `len()` aplicada a un objeto en particular `MyObject` hace efectivamente un llamado a la función `MyObject.__len__()`."
   ]
  },
  {
   "cell_type": "markdown",
   "metadata": {},
   "source": [
    "Podemos también hacer _overriding_ del método `__len__`. Supongamos que queremos implementar un tipo especial de lista cuyo método `__len__` retorna el largo de la lista sin considerar los elementos que se repiten:"
   ]
  },
  {
   "cell_type": "code",
   "execution_count": null,
   "metadata": {},
   "outputs": [],
   "source": [
    "from collections import defaultdict\n",
    "\n",
    "class MyList(list):\n",
    "    def __len__(self):\n",
    "        \n",
    "        # Cada vez que se llame con un key que no existe, se genera como default el valor 0, \n",
    "        # que sale de llamar a \"int\" sin argumentos (probar tipeando int() en la consola de Python).\n",
    "        \n",
    "        d = defaultdict(int)\n",
    "        for i in range(list.__len__(self)):  # aquí llamamos a la función len de la clase list\n",
    "            d.update({self[i] : d[self[i]] + 1})\n",
    "        \n",
    "        # aquí se llama al método len de d, que es un defaultdict\n",
    "        return len(d)  \n",
    "    \n",
    "L = MyList([1,2,3,4,5,6,6,7,7,7,7,2,2,3,3,1,1])\n",
    "print(len(L))\n",
    "\n",
    "\n",
    "# Otra forma de hacer lo mismo\n",
    "class MyList2(list):\n",
    "    \n",
    "    def __len__(self):\n",
    "        #cada vez que se llame con un key que no existe, se genera como default el valor 0, \n",
    "        # que sale de llamar a \"int\" sin argumentos (probar tipeando int() en la consola de Python).\n",
    "        d = defaultdict(int)\n",
    "        for i in self:  # aquí llamamos a la función len de la clase list\n",
    "            d.update({i : d[i] + 1})\n",
    "        return len(d)  # aquí se llama al método len de d, que es un defaultdict\n",
    "    \n",
    "L = MyList2([1,2,3,4,5,6,6,7,7,7,7,2,2,3,3,1,1])\n",
    "print(len(L))\n",
    "\n",
    "\n",
    "# Otra forma de hacer lo mismo\n",
    "class MyList3(list):\n",
    "    \n",
    "    def __len__(self):\n",
    "        d = set(self)\n",
    "        return len(d)  # aquí se llama al método len de d, que es un defaultdict\n",
    "    \n",
    "L = MyList3([1,2,3,4,5,6,6,7,7,7,7,2,2,3,3,1,1])\n",
    "print(len(L))\n"
   ]
  },
  {
   "cell_type": "markdown",
   "metadata": {},
   "source": [
    "## `__getitem__`\n",
    "\n",
    "Al definir esta función dentro de una clase, cada instancia de la clase pasa a ser un iterable."
   ]
  },
  {
   "cell_type": "code",
   "execution_count": null,
   "metadata": {},
   "outputs": [],
   "source": [
    "class MiClase:\n",
    "    \n",
    "    def __init__(self, palabra=None):\n",
    "        self.palabra = palabra\n",
    "        \n",
    "    def __getitem__(self, i):\n",
    "         return self.palabra[i]\n",
    "\n",
    "p = MiClase(\"hola_mundo\")\n",
    "print(p[0])\n",
    "\n",
    "[print(c) for c in p]\n",
    "\n",
    "(a,b,c,d) = p[0:4]\n",
    "print(a,b,c,d)\n",
    "print(list(p))\n",
    "print(tuple(p))"
   ]
  },
  {
   "cell_type": "markdown",
   "metadata": {},
   "source": [
    "## `reversed`\n",
    "\n",
    "Esta función toma una sequencia cualquiera como input y retorna una copia de la secuencia en orden inverso. \n",
    "También podemos personalizar la función haciendo un _overriding_ de `__reversed__` en cada clase. Si no personalizamos el método `__reversed__`, simplemente se usará el _built-in_, que iterará usando `__getitem__` y `__len__` (itera `__len__` veces sobre el objeto usando `__getitem__`, hacia atrás)\n"
   ]
  },
  {
   "cell_type": "markdown",
   "metadata": {},
   "source": [
    "Por ejemplo, podemos definir un tipo especial de lista que hace _override_ de `__reversed__`. En este caso, intercambia la primera mitad con la segunda, en vez de invertir el orden de los elementos."
   ]
  },
  {
   "cell_type": "code",
   "execution_count": null,
   "metadata": {},
   "outputs": [],
   "source": [
    "lista = [1,2,3,4,5,6]\n",
    "\n",
    "\n",
    "class MiReversa(list):\n",
    "    \n",
    "    def __init__(self, *args):\n",
    "        super().__init__(args)\n",
    "        \n",
    "    def __reversed__(self):\n",
    "        middle = self.__len__() // 2\n",
    "        return self[middle:] + self[:middle]\n",
    "    \n",
    "\n",
    "for seq in lista, MiReversa(*lista):\n",
    "    print(\"\\n{} : \".format(seq.__class__.__name__), end = \"\")\n",
    "    for item in reversed(seq):\n",
    "        print(item, end = \", \")\n",
    "    "
   ]
  },
  {
   "cell_type": "markdown",
   "metadata": {},
   "source": [
    "## `enumerate`\n",
    "\n",
    "`enumerate()` crea una lista de tuplas donde el primer objeto en cada tupla es el indice y el segundo es el item original:"
   ]
  },
  {
   "cell_type": "markdown",
   "metadata": {},
   "source": [
    "Por ejemplo, si queremos iterar sobre una lista, y necesitamos obtener tanto el índice como su valor, una forma poco _pythonic_ de hacer esto sería la siguiente:"
   ]
  },
  {
   "cell_type": "code",
   "execution_count": null,
   "metadata": {},
   "outputs": [],
   "source": [
    "lista = [\"a\",\"b\",\"c\",\"d\"]\n",
    "\n",
    "for index in range(len(lista)):\n",
    "    element = lista[index]\n",
    "    print(\"{}: {}\".format(index,element))"
   ]
  },
  {
   "cell_type": "markdown",
   "metadata": {},
   "source": [
    "La función `enumerate` nos permite hacer exactamente mismo, pero de una forma más elegante y _pythonic_:"
   ]
  },
  {
   "cell_type": "code",
   "execution_count": null,
   "metadata": {},
   "outputs": [],
   "source": [
    "for index, element in enumerate(lista):\n",
    "    print(\"{}: {}\".format(index, element))"
   ]
  },
  {
   "cell_type": "markdown",
   "metadata": {},
   "source": [
    "## `zip`\n",
    "\n",
    "Toma dos o más secuencias o iterables y genera una lista de tuplas, donde el elemento i-ésimo contiene la tupla formada de los elementos i-ésimos de cada una de las secuencias o iterables. El largo de la lista retornada es igual al menor de los largos de las secuencias o iterables."
   ]
  },
  {
   "cell_type": "code",
   "execution_count": null,
   "metadata": {},
   "outputs": [],
   "source": [
    "variables = ['nombre', 'apellido', 'email']\n",
    "p1 = [\"Juan\", 'Perez', 'jp1@hotmail.com']\n",
    "p2 = [\"Gonzalo\", 'Aldunate', 'gan@gmail.com']\n",
    "p3 = [\"Alberto\", 'Gomez', 'agomez@yahoo.com']\n",
    "\n",
    "contactos = []\n",
    "for p in p1, p2, p3:    \n",
    "    contacto = zip(variables, p)\n",
    "    contactos.append(dict(contacto))\n",
    "\n",
    "for c in contactos:\n",
    "    #  El doble asterisco es para pasar el diccionario c como \"keyworded\" argumentos\n",
    "    # es equivalente a .format(nombre = c[\"nombre\"], apellido = c[\"apellido\"], email = c[\"email\"]\n",
    "    print(\"Nombre: {nombre} {apellido}, email: {email}\".format(**c))\n",
    "    \n",
    "    \n",
    "print(list(zip(variables, p1, p2, p3)))"
   ]
  },
  {
   "cell_type": "markdown",
   "metadata": {},
   "source": [
    "### La función `zip()` también es la inversa de sí misma"
   ]
  },
  {
   "cell_type": "code",
   "execution_count": null,
   "metadata": {},
   "outputs": [],
   "source": [
    "A = [1, 2, 3, 4]\n",
    "B = ['a', 'b', 'c', 'd']\n",
    "\n",
    "zipped = zip(A, B)\n",
    "zipped = list(zipped)\n",
    "print(zipped)\n",
    "\n",
    "unzipped = zip(*zipped)\n",
    "unzipped = list(unzipped)\n",
    "print(unzipped)"
   ]
  },
  {
   "cell_type": "markdown",
   "metadata": {},
   "source": [
    "# Listas por Comprensión\n",
    "\n",
    "Desde el punto de vista de la lógica, la definición de comprensión es:  \"Conjunto de caracteres que forman un concepto\". Así mismo, las listas por comprensión se pueden ver como listas formadas por un conjunto de objetos que cumplen con un concepto en particular."
   ]
  },
  {
   "cell_type": "markdown",
   "metadata": {},
   "source": [
    "Por ejemplo, tenemos una lista de números guardados como `strings`y queremos construir una lista con los mismos números, pero guardados como `ints`. Una forma de hacerlo sería lo siguiente:"
   ]
  },
  {
   "cell_type": "code",
   "execution_count": null,
   "metadata": {},
   "outputs": [],
   "source": [
    "lista = ['1', '4', '55', '65','4', '15', '90']\n",
    "\n",
    "int_lista = []\n",
    "\n",
    "for c in lista:\n",
    "    int_lista.append(int(c))\n",
    "    \n",
    "print(int_lista)"
   ]
  },
  {
   "cell_type": "markdown",
   "metadata": {},
   "source": [
    "Usando listas por comprensión, podemos hacer lo mismo de forma más clara y concisa:"
   ]
  },
  {
   "cell_type": "code",
   "execution_count": null,
   "metadata": {},
   "outputs": [],
   "source": [
    "lista = ['1', '4', '55', '65','4', '15', '90']\n",
    "int_lista = [int(c) for c in lista]\n",
    "print(int_lista)"
   ]
  },
  {
   "cell_type": "markdown",
   "metadata": {},
   "source": [
    "La sentencia `if` se puede usar dentro de una lista por comprensión para construir la lista incluyendo solamente los elementos que cumplan una cierta condición.\n",
    "\n",
    "Por ejemplo, a continuación convertiremos a `int` e incluiremos en la nueva lista solamente los números que estén representados en un `string` con largo estrictamente mayor a uno."
   ]
  },
  {
   "cell_type": "code",
   "execution_count": null,
   "metadata": {},
   "outputs": [],
   "source": [
    "int_lista_2d = [int(c) for c in lista if len(c) > 1]\n",
    "print(int_lista_2d)"
   ]
  },
  {
   "cell_type": "markdown",
   "metadata": {},
   "source": [
    "<h1>Sets y Diccionarios por comprensión</h1>\n",
    "\n",
    "  La misma idea la podemos aplicar a otras estructuras de datos, como sets y diccionarios:"
   ]
  },
  {
   "cell_type": "code",
   "execution_count": null,
   "metadata": {},
   "outputs": [],
   "source": [
    "from collections import namedtuple\n",
    "# namedtuple es una subclase de tuplas que tiene campos (con nombres arbitrarios), \n",
    "# pueden ser accesados como tupla.campo\n",
    "Pelicula = namedtuple(\"Pelicula\", [\"titulo\", \"director\", \"genero\"])\n",
    "peliculas = [Pelicula(\"Into the Woods\", \"Rob Marshall\", \"Adventure\"),\n",
    "           Pelicula(\"American Sniper\", \"Clint Eastwood\", \"Action\"),\n",
    "           Pelicula(\"Birdman\", \"Alejandro González Inárritu\", \"Comedy\"),\n",
    "           Pelicula(\"Boyhood\", \"Richard Linklater\", \"Drama\"), \n",
    "           Pelicula(\"Taken 3\", \"Olivier Megaton\", \"Action\"), \n",
    "           Pelicula(\"The Imitation Game\", \"Morten Tyldum\", \"Biography\"),\n",
    "           Pelicula(\"Gone Girl\", \"David Fincher\", \"Drama\")]\n",
    "\n",
    "directores_accion = {b.director for b in peliculas if b.genero == 'Action'}  # set comprehension\n",
    "print(directores_accion)\n"
   ]
  },
  {
   "cell_type": "markdown",
   "metadata": {},
   "source": [
    "<h3> Podemos crear diccionarios con los resultados de búsqueda:</h3>"
   ]
  },
  {
   "cell_type": "code",
   "execution_count": null,
   "metadata": {},
   "outputs": [],
   "source": [
    "dict_directores_accion = {b.director: b for b in peliculas if b.genero == 'Action'}\n",
    "print(dict_directores_accion)"
   ]
  },
  {
   "cell_type": "code",
   "execution_count": null,
   "metadata": {},
   "outputs": [],
   "source": [
    "dict_directores_accion['Olivier Megaton']"
   ]
  },
  {
   "cell_type": "markdown",
   "metadata": {},
   "source": [
    "## Generadores\n",
    "\n",
    "Los generadores nos permiten iterar sobre secuencias de datos sin la necesidad de almacenarlos en alguna estructura de datos, evitando el uso innecesario de memoria. \n",
    "\n",
    "Una vez que terminamos de iterar sobre un generador, el generador desaparece. Esto es muy útil cuando queremos realizar cálculos sobre secuencias de números que sólo nos sirven para ese cálculo en particular. La sintaxis para crear generadores es muy parecida a la comprensión de listas, sólo que en vez de paréntesis cuadrados [] usamos paréntesis normales ():"
   ]
  },
  {
   "cell_type": "code",
   "execution_count": null,
   "metadata": {},
   "outputs": [],
   "source": [
    "from sys import getsizeof #para medir el tamaño de los objetos"
   ]
  },
  {
   "cell_type": "code",
   "execution_count": null,
   "metadata": {},
   "outputs": [],
   "source": [
    "generador_pares = (2*i for i in range(10))\n",
    "#por el sólo hecho de usar paréntesis \n",
    "#significa que estamos creando un generador\n",
    "print('tamaño del generador:', getsizeof(generador_pares))\n",
    "\n",
    "lista_pares = [2*i for i in range(10)]\n",
    "\n",
    "print('tamaño de la lista:', getsizeof(lista_pares))\n",
    "# la lista usa más memoria que el generador"
   ]
  },
  {
   "cell_type": "markdown",
   "metadata": {},
   "source": [
    "A continuación podemos observar que una vez que ya hemos iterado sobre el generador, no lo podemos volver a utilizar."
   ]
  },
  {
   "cell_type": "code",
   "execution_count": null,
   "metadata": {},
   "outputs": [],
   "source": [
    "print('valores del generador')\n",
    "for i in generador_pares:\n",
    "    print(i)\n",
    "\n",
    "print('valores del generador')\n",
    "for i in generador_pares:\n",
    "    print(i)\n",
    "#como ya terminamos de iterar sobre a\n",
    "#la secuencia desaparece"
   ]
  },
  {
   "cell_type": "markdown",
   "metadata": {},
   "source": [
    "## Funciones Generadoras\n",
    "\n",
    "Las funciones en Python también tienen la posibilidad de funcionar como generadores, a través de `yield`. El _statement_ `yield` reemplaza a `return`, por un lado se encarga de retornar el valor pero además nos asegura que en la próxima llamada a la función, ésta será ejecutada partiendo desde el punto donde quedó en la ejecución anterior. En otras palabras, trabajamos con una función que una vez que \"retorna\" un valor a través de `yield`, está transfierendo el control sólo en forma temporal, asumiendo que pronto será utilizada nuevamente para \"generar\" más valores. Al llamar a una función generadora se crea un objeto generador, sin embargo, esto no comienza a ejecutar la función. Ejemplo:"
   ]
  },
  {
   "cell_type": "code",
   "execution_count": null,
   "metadata": {},
   "outputs": [],
   "source": [
    "def conteo_dec(n):\n",
    "    print(\"Contando en forma decreciente desde {}\".format(n))\n",
    "    while n > 0:\n",
    "        yield n\n",
    "        n -= 1"
   ]
  },
  {
   "cell_type": "markdown",
   "metadata": {},
   "source": [
    "La función se ejecuta una vez que llamamos a `next` del objeto generado por la función, que retorna un generador."
   ]
  },
  {
   "cell_type": "code",
   "execution_count": null,
   "metadata": {},
   "outputs": [],
   "source": [
    "x = conteo_dec(10)#notar que aquí no se imprime nada\n",
    "print(\"{}\\n\".format(x))#aquí sólo se imprime el objeto\n",
    "y = conteo_dec(5)\n",
    "print(next(y))\n",
    "print(next(y))\n",
    "print(next(y))\n",
    "print(next(y))\n",
    "#for i in conteo_dec(5):\n",
    "#    print(i)"
   ]
  },
  {
   "cell_type": "code",
   "execution_count": null,
   "metadata": {},
   "outputs": [],
   "source": [
    "def fibonacci():\n",
    "    a,b = 0,1\n",
    "    while True:\n",
    "        yield b\n",
    "        a, b = b, a + b\n",
    "\n",
    "f = fibonacci()\n",
    "print(next(f))\n",
    "print(next(f))\n",
    "print(next(f))\n",
    "print(next(f))\n",
    "print(next(f))\n",
    "print(next(f))\n",
    "g1 = [next(f) for i in range(10)]\n",
    "print(g1)\n",
    "g2 = (next(f) for i in range(10))\n",
    "for a in g2: print(a)"
   ]
  },
  {
   "cell_type": "code",
   "execution_count": null,
   "metadata": {},
   "outputs": [],
   "source": [
    "import numpy as np\n",
    "def maximo(values):\n",
    "    temp_maxim = -np.infty\n",
    "    for v in values:\n",
    "        if v > temp_maxim:\n",
    "            temp_maxim = v\n",
    "        yield temp_maxim\n",
    "        \n",
    "elements = [10, 14, 7, 9, 12, 19, 33]\n",
    "res = maximo(elements)\n",
    "print(next(res))\n",
    "print(next(res))\n",
    "print(next(res))\n",
    "print(next(res))\n",
    "print(next(res))\n",
    "print(next(res))\n",
    "print(next(res))#aquí se acabó la lista"
   ]
  },
  {
   "cell_type": "markdown",
   "metadata": {},
   "source": [
    "### También podemos interactuar con la función enviando mensajes \n",
    "\n",
    "El método `send()` permite enviar un valor hacia el generador, lo que significa que la expresión `yield` lo recibirá. El valor enviado puede ser usado para asignarlo a otra variable, por ejemplo: `v = yield self.value`"
   ]
  },
  {
   "cell_type": "code",
   "execution_count": null,
   "metadata": {},
   "outputs": [],
   "source": [
    "def mov_avg():\n",
    "    print(\"entrando...\")\n",
    "    total = float((yield))\n",
    "    cont = 1\n",
    "    print(\"total = {}\".format(total))\n",
    "    while True:\n",
    "        print(\"loop del while...\")\n",
    "        i = yield total / cont #aquí el i recibe el mensaje, además se está retornando total/count\n",
    "        cont += 1\n",
    "        total += i\n",
    "        print(\"i = {}\".format(i))\n",
    "        print(\"total = {}\".format(total))\n",
    "        print(\"cont = {}\".format(cont))"
   ]
  },
  {
   "cell_type": "markdown",
   "metadata": {},
   "source": [
    "Notar que el código debe ejecutar al menos hasta el primer `yield` para poder empezar a aceptar valores desde `send()`. Así siempre es necesario llamar a `next()` (o `send(None)`) una vez después de haber creado el generador para poder comenzar a enviarle datos."
   ]
  },
  {
   "cell_type": "code",
   "execution_count": null,
   "metadata": {},
   "outputs": [],
   "source": [
    "m = mov_avg()\n",
    "print(\"entrando al primer next\")\n",
    "next(m)#avanzamos al primer yield\n",
    "print(\"saliendo del primer next\")\n",
    "m.send(10)\n",
    "print(\"entrando al send de 5\")\n",
    "m.send(5)\n",
    "print(\"entrando al send de 0\")\n",
    "m.send(0)\n",
    "print(\"entrando al otro send de 0\")\n",
    "m.send(0)\n",
    "print(\"entrando al send de 20\")\n",
    "m.send(20)"
   ]
  },
  {
   "cell_type": "code",
   "execution_count": null,
   "metadata": {},
   "outputs": [],
   "source": [
    "m = mov_avg()\n",
    "print(next(m))\n",
    "print(m.send(10))\n",
    "print(m.send(5))\n",
    "print(m.send(0))\n",
    "print(m.send(0))\n",
    "print(m.send(20))"
   ]
  },
  {
   "cell_type": "markdown",
   "metadata": {},
   "source": [
    "## Lambda Functions\n",
    "\n",
    "Las funciones `lambda` son una forma alternativa de definir funciones en Python.\n",
    "Además de su nombre griego, no hay nada intimidante en ellas.\n",
    "Veamos un ejemplo."
   ]
  },
  {
   "cell_type": "code",
   "execution_count": null,
   "metadata": {},
   "outputs": [],
   "source": [
    "sumar_uno = lambda x: x+1\n",
    "\n",
    "#es (casi) equivalente a\n",
    "\n",
    "def sumar_uno(x):\n",
    "    return x+1"
   ]
  },
  {
   "cell_type": "code",
   "execution_count": null,
   "metadata": {},
   "outputs": [],
   "source": [
    "#para que el gráfico se genere dentro del notebook y no en una ventana aparte\n",
    "%matplotlib inline \n",
    "\n",
    "import numpy as np\n",
    "from matplotlib import pyplot as plt\n",
    "\n",
    "gauss = lambda x, mu, sigma: (1./(np.sqrt(2*np.pi)*sigma)) * np.exp(-0.5*((x - mu)/sigma)**2)\n",
    "\n",
    "mu = 0.\n",
    "sigma = 0.2\n",
    "x = np.linspace(-2,2,300)\n",
    "plt.plot(x, gauss(x, mu, sigma), '.r')\n",
    "plt.show()\n",
    "\n"
   ]
  },
  {
   "cell_type": "markdown",
   "metadata": {},
   "source": [
    "Sin embargo, las funciones `lambda` pueden, **además**, ser definidas de forma anónima; es decir, funciones que no tienen nombre.\n",
    "Estas funciones pueden ser vistas como _fugaces_ y son utilizadas únicamente donde fueron creadas.\n",
    "Esta anonimidad se combina bien con las funciones que veremos a continuación: `map`, `filter`, `reduce`."
   ]
  },
  {
   "cell_type": "markdown",
   "metadata": {},
   "source": [
    "## `map`\n",
    "\n",
    "La función `map` aplica, en esencia, una misma función a todos los elementos de un objeto iterable (lista, diccionario, set, etc.). Recibe como parámetros una función y al menos un objeto iterable. Retorna un generador que resulta de aplicar la función sobre el iterable. `map(f, iterable)` es equivalente a `(f(x) for x in iterable)`\n",
    "\n",
    "La cantidad de iterables entregada a `map` debe corresponder con la cantidad de parámetros que recible la función `f`. Por ejemplo, `map(f, iterable1, iterable2)` es equivalente a `(f(x) for x in zip(iterable1, iterable2))`"
   ]
  },
  {
   "cell_type": "code",
   "execution_count": null,
   "metadata": {},
   "outputs": [],
   "source": [
    "pow2 = lambda x : x**2\n",
    "t = np.linspace(-1.,1., 100)#crea un arreglo numpy de 100 elementos, partiendo desde -1 y llegando a 1\n",
    "plt.plot(t, list(map(pow2, t)), 'xb')\n",
    "plt.show()"
   ]
  },
  {
   "cell_type": "markdown",
   "metadata": {},
   "source": [
    "Map puede ser aplicado también en más de una lista:"
   ]
  },
  {
   "cell_type": "code",
   "execution_count": null,
   "metadata": {},
   "outputs": [],
   "source": [
    "a = [1, 2, 3, 4]\n",
    "b = [17, 12, 11, 10]\n",
    "c = [-1, -4, 5, 9]\n",
    "\n",
    "c1 = list(map(lambda x, y: x + y, a, b))\n",
    "\n",
    "c2 = list(map(lambda x, y, z: x + y + z, a, b, c))\n",
    "\n",
    "c3 = list(map(lambda x, y, z: 2.5*x + 2*y - z, a, b, c))\n",
    "\n",
    "print(c1)\n",
    "print(c2)\n",
    "print(c3)\n"
   ]
  },
  {
   "cell_type": "markdown",
   "metadata": {},
   "source": [
    "## `filter`   \n",
    "\n",
    "`filter(f, secuencia)` retorna el resultado de aplicar la función `f` a `secuencia`, dejando fuera los datos en que el resultado de aplicar `f` al elemento fue `False`. La función `f` **debe** retornar un valor de tipo booleano."
   ]
  },
  {
   "cell_type": "code",
   "execution_count": null,
   "metadata": {},
   "outputs": [],
   "source": [
    "f = fibonacci() #función definida más arriba\n",
    "fib = [next(f) for i in range(11)]\n",
    "impares = list(filter(lambda x: x % 2 != 0, fib))\n",
    "print(impares)\n",
    "\n",
    "pares = list(filter(lambda x: x % 2 == 0, fib))\n",
    "print(pares)\n",
    "\n"
   ]
  },
  {
   "cell_type": "markdown",
   "metadata": {},
   "source": [
    "## `reduce`\n",
    "\n",
    "`reduce(f, [s1,s2,s3,...,sn])` retorna lo que resulta de aplicar la función `f` a la secuencia `[s1, s2, s3, ..., sn]` de la siguiente forma: `f(f(f(f(s1,s2),s3),s4),s5),...`  ![](figs/reduce.png)\n",
    "\n"
   ]
  },
  {
   "cell_type": "code",
   "execution_count": null,
   "metadata": {},
   "outputs": [],
   "source": [
    "from functools import reduce\n",
    "reduce(lambda x, y: x+y, range(1,10))"
   ]
  }
 ],
 "metadata": {
  "anaconda-cloud": {},
  "kernelspec": {
   "display_name": "Python 3",
   "language": "python",
   "name": "python3"
  },
  "language_info": {
   "codemirror_mode": {
    "name": "ipython",
    "version": 3
   },
   "file_extension": ".py",
   "mimetype": "text/x-python",
   "name": "python",
   "nbconvert_exporter": "python",
   "pygments_lexer": "ipython3",
   "version": "3.6.3"
  }
 },
 "nbformat": 4,
 "nbformat_minor": 1
}
