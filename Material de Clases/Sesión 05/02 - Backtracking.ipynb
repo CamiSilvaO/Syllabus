{
 "cells": [
  {
   "cell_type": "markdown",
   "metadata": {},
   "source": [
    "<p>\n",
    "<font size='5' face='Georgia, Arial'>IIC2115 - Programación como herramienta para la ingeniería</font><br>\n",
    "</p>"
   ]
  },
  {
   "cell_type": "markdown",
   "metadata": {},
   "source": [
    "# Backtracking\n"
   ]
  },
  {
   "cell_type": "markdown",
   "metadata": {},
   "source": [
    "Los algoritmos que utilizan técnicas generales de resolución de problemas se encuentran entre los algoritmos más simples y poderosos disponibles. Sucesivamente crean posibles soluciones a un problema y prueban cada solución para comprobar su corrección. Dicho código puede ser escrito una vez y luego reutilizado para muchos problemas diferentes. Esto permite a un programador evitar escribir un algoritmo especializado para cada problema.\n",
    "\n",
    "Un ejemplo de estas técnicas es el retroceso. Backtracking trabaja en la clase de problemas llamados problemas combinatorios. Un problema es combinatorio si la solución puede expresarse como un conjunto ordenado de opciones de una lista proporcionada en la declaración del problema. Por ejemplo, la programación es un problema combinatorio porque la solución es una lista ordenada de jobs.\n",
    "\n",
    "Backtracking forma parte de una familia de algoritmos relacionados: ramificación-y-bound, montañismo, Z*, A*, búsqueda alfa-beta, etc., todos los cuales utilizan técnicas generales de resolución de problemas para resolver problemas combinatorios. De estos algoritmos, el backtracking es simple y representativo. Es relativamente fácil de aprender, y las técnicas de backtracking son similares a sus primos más complicados."
   ]
  }
 ],
 "metadata": {
  "kernelspec": {
   "display_name": "Python 3",
   "language": "python",
   "name": "python3"
  },
  "language_info": {
   "codemirror_mode": {
    "name": "ipython",
    "version": 3
   },
   "file_extension": ".py",
   "mimetype": "text/x-python",
   "name": "python",
   "nbconvert_exporter": "python",
   "pygments_lexer": "ipython3",
   "version": "3.6.1"
  }
 },
 "nbformat": 4,
 "nbformat_minor": 2
}
